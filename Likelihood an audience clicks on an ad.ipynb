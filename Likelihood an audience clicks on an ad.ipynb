{
 "cells": [
  {
   "cell_type": "markdown",
   "metadata": {},
   "source": [
    "# Predicting the likelihood that a target audience clicks on an Ad"
   ]
  },
  {
   "cell_type": "markdown",
   "metadata": {},
   "source": [
    "# Part 1 - DEFINE"
   ]
  },
  {
   "cell_type": "markdown",
   "metadata": {},
   "source": [
    "Media conglomerate company X has a network of different websites within its network and would like to run a certain ad for company A which is selling product M. The company is willing to pay the media company 25USD for each successful click that leads the traffic to their site up to a maximum of 40000USD and is looking to create awareness about product M. Company X has 10 websites within its network that have a target audience that would be likely to click on the ad based on data from previous campaigns with companies selling similar products.\n",
    "\n",
    "The dataset provided is a subset of data from one of the sites. Company A is also looking to run on only two websites of the 10 for a start and if this proves successful they would be willing to spend more money to run the ad on other website that have a similar audience based on the results.\n",
    "The media conglomerate would like a model saved in a pickle that they can use to test on the data they have from other websites to see which websites are likely to have a higher number of clicks. This would ensure that they run the ads on the top 2 websites where they are likely to get the highest number of clicks and therefore secure the full amount of 40000USD. \n",
    "\n",
    "**Accuracy** in this model is therefore particularly important and thus the focus is the True Positives. \n",
    "**False positives** on the other hand would likely lose revenue for the company in this case about 25USD per misclassified click. \n",
    "If the goal of about 1600 clicks is not reached by this campaign it potentially lose any future business with Company A estimated at a minimum of 300000USD per year.\n",
    "\n",
    "Assumption: This data is a sample from one of the websites to ensure a balanced dataset based on the target variable.\n"
   ]
  },
  {
   "cell_type": "markdown",
   "metadata": {},
   "source": [
    "Below is a summary of the features in the dataset:\n",
    "\n",
    "* 'Daily Time Spent on Site': consumer time on site in minutes\n",
    "* 'Age': customer age in years\n",
    "* 'Area Income': Avg. Income of geographical area of consumer\n",
    "* 'Daily Internet Usage': Avg. minutes a day consumer is on the internet\n",
    "* 'Ad Topic Line': Headline of the advertisement\n",
    "* 'City': City of consumer\n",
    "* 'Male': Whether the consumer was male\n",
    "* 'Country': Country of consumer\n",
    "* 'Timestamp': Time at which consumer clicked on Ad or closed window\n",
    "* 'Clicked on Ad': 0 or 1 indicated clicking on Ad"
   ]
  },
  {
   "cell_type": "markdown",
   "metadata": {},
   "source": [
    "Assumption: The media company is paid per click by the advertiser."
   ]
  },
  {
   "cell_type": "markdown",
   "metadata": {},
   "source": [
    "### Importing libraries"
   ]
  },
  {
   "cell_type": "code",
   "execution_count": 1,
   "metadata": {},
   "outputs": [],
   "source": [
    "import numpy as np\n",
    "import pandas as pd\n",
    "import matplotlib.pyplot as plt\n",
    "import seaborn as sns\n",
    "sns.set_style('white')\n",
    "%matplotlib inline\n",
    "from datetime import datetime\n",
    "from datetime import timedelta\n",
    "import time\n",
    "import pickle\n",
    "from sklearn.preprocessing import MinMaxScaler\n",
    "from sklearn.model_selection import train_test_split, GridSearchCV\n",
    "from sklearn.linear_model import LogisticRegression\n",
    "from sklearn.ensemble import RandomForestClassifier\n",
    "from sklearn.metrics import make_scorer, fbeta_score, accuracy_score\n",
    "from sklearn.metrics import confusion_matrix, precision_score, recall_score, roc_curve, roc_auc_score"
   ]
  },
  {
   "cell_type": "markdown",
   "metadata": {},
   "source": [
    "-----"
   ]
  },
  {
   "cell_type": "markdown",
   "metadata": {},
   "source": [
    "## Part 2 - DISCOVER"
   ]
  },
  {
   "cell_type": "markdown",
   "metadata": {},
   "source": [
    "### Load the data "
   ]
  },
  {
   "cell_type": "code",
   "execution_count": 2,
   "metadata": {
    "scrolled": false
   },
   "outputs": [
    {
     "data": {
      "text/html": [
       "<div>\n",
       "<style scoped>\n",
       "    .dataframe tbody tr th:only-of-type {\n",
       "        vertical-align: middle;\n",
       "    }\n",
       "\n",
       "    .dataframe tbody tr th {\n",
       "        vertical-align: top;\n",
       "    }\n",
       "\n",
       "    .dataframe thead th {\n",
       "        text-align: right;\n",
       "    }\n",
       "</style>\n",
       "<table border=\"1\" class=\"dataframe\">\n",
       "  <thead>\n",
       "    <tr style=\"text-align: right;\">\n",
       "      <th></th>\n",
       "      <th>Daily Time Spent on Site</th>\n",
       "      <th>Age</th>\n",
       "      <th>Area Income</th>\n",
       "      <th>Daily Internet Usage</th>\n",
       "      <th>Ad Topic Line</th>\n",
       "      <th>City</th>\n",
       "      <th>Male</th>\n",
       "      <th>Country</th>\n",
       "      <th>Timestamp</th>\n",
       "      <th>Clicked on Ad</th>\n",
       "    </tr>\n",
       "  </thead>\n",
       "  <tbody>\n",
       "    <tr>\n",
       "      <th>0</th>\n",
       "      <td>68.95</td>\n",
       "      <td>35</td>\n",
       "      <td>61833.90</td>\n",
       "      <td>256.09</td>\n",
       "      <td>Cloned 5thgeneration orchestration</td>\n",
       "      <td>Wrightburgh</td>\n",
       "      <td>0</td>\n",
       "      <td>Tunisia</td>\n",
       "      <td>2016-03-27 0:53</td>\n",
       "      <td>0.0</td>\n",
       "    </tr>\n",
       "    <tr>\n",
       "      <th>1</th>\n",
       "      <td>80.23</td>\n",
       "      <td>31</td>\n",
       "      <td>68441.85</td>\n",
       "      <td>193.77</td>\n",
       "      <td>Monitored national standardization</td>\n",
       "      <td>West Jodi</td>\n",
       "      <td>1</td>\n",
       "      <td>Nauru</td>\n",
       "      <td>2016-04-04 1:39</td>\n",
       "      <td>0.0</td>\n",
       "    </tr>\n",
       "    <tr>\n",
       "      <th>2</th>\n",
       "      <td>69.47</td>\n",
       "      <td>26</td>\n",
       "      <td>59785.94</td>\n",
       "      <td>236.50</td>\n",
       "      <td>Organic bottom-line service-desk</td>\n",
       "      <td>Davidton</td>\n",
       "      <td>0</td>\n",
       "      <td>San Marino</td>\n",
       "      <td>2016-03-13 20:35</td>\n",
       "      <td>0.0</td>\n",
       "    </tr>\n",
       "    <tr>\n",
       "      <th>3</th>\n",
       "      <td>74.15</td>\n",
       "      <td>29</td>\n",
       "      <td>54806.18</td>\n",
       "      <td>245.89</td>\n",
       "      <td>Triple-buffered reciprocal time-frame</td>\n",
       "      <td>West Terrifurt</td>\n",
       "      <td>1</td>\n",
       "      <td>Italy</td>\n",
       "      <td>2016-01-10 2:31</td>\n",
       "      <td>0.0</td>\n",
       "    </tr>\n",
       "    <tr>\n",
       "      <th>4</th>\n",
       "      <td>68.37</td>\n",
       "      <td>35</td>\n",
       "      <td>73889.99</td>\n",
       "      <td>225.58</td>\n",
       "      <td>Robust logistical utilization</td>\n",
       "      <td>South Manuel</td>\n",
       "      <td>0</td>\n",
       "      <td>Iceland</td>\n",
       "      <td>2016-06-03 3:36</td>\n",
       "      <td>0.0</td>\n",
       "    </tr>\n",
       "  </tbody>\n",
       "</table>\n",
       "</div>"
      ],
      "text/plain": [
       "   Daily Time Spent on Site  Age  Area Income  Daily Internet Usage  \\\n",
       "0                     68.95   35     61833.90                256.09   \n",
       "1                     80.23   31     68441.85                193.77   \n",
       "2                     69.47   26     59785.94                236.50   \n",
       "3                     74.15   29     54806.18                245.89   \n",
       "4                     68.37   35     73889.99                225.58   \n",
       "\n",
       "                           Ad Topic Line            City  Male     Country  \\\n",
       "0     Cloned 5thgeneration orchestration     Wrightburgh     0     Tunisia   \n",
       "1     Monitored national standardization       West Jodi     1       Nauru   \n",
       "2       Organic bottom-line service-desk        Davidton     0  San Marino   \n",
       "3  Triple-buffered reciprocal time-frame  West Terrifurt     1       Italy   \n",
       "4          Robust logistical utilization    South Manuel     0     Iceland   \n",
       "\n",
       "          Timestamp  Clicked on Ad  \n",
       "0   2016-03-27 0:53            0.0  \n",
       "1   2016-04-04 1:39            0.0  \n",
       "2  2016-03-13 20:35            0.0  \n",
       "3   2016-01-10 2:31            0.0  \n",
       "4   2016-06-03 3:36            0.0  "
      ]
     },
     "execution_count": 2,
     "metadata": {},
     "output_type": "execute_result"
    }
   ],
   "source": [
    "#loading the data\n",
    "ad_data = pd.read_csv('advertising.csv')\n",
    "ad_data.head()"
   ]
  },
  {
   "cell_type": "code",
   "execution_count": 3,
   "metadata": {},
   "outputs": [
    {
     "data": {
      "text/plain": [
       "(1018, 10)"
      ]
     },
     "execution_count": 3,
     "metadata": {},
     "output_type": "execute_result"
    }
   ],
   "source": [
    "ad_data.shape"
   ]
  },
  {
   "cell_type": "code",
   "execution_count": 4,
   "metadata": {},
   "outputs": [],
   "source": [
    "ad_data = ad_data.rename(columns={'Daily Time Spent on Site': 'time_on_site',\n",
    "                                 'Daily Internet Usage': 'internet_usage',\n",
    "                                 'Age': 'age',\n",
    "                                 'Area Income': 'area_income',\n",
    "                                 'Ad Topic Line': 'ad_topic_line',\n",
    "                                 'City': 'city',\n",
    "                                 'Male': 'male',\n",
    "                                 'Country': 'country',\n",
    "                                 'Timestamp': 'timestamp',\n",
    "                                 'Clicked on Ad': 'clicked'})"
   ]
  },
  {
   "cell_type": "markdown",
   "metadata": {},
   "source": [
    "------"
   ]
  },
  {
   "cell_type": "markdown",
   "metadata": {},
   "source": [
    "### Clean the data"
   ]
  },
  {
   "cell_type": "code",
   "execution_count": 5,
   "metadata": {},
   "outputs": [
    {
     "name": "stdout",
     "output_type": "stream",
     "text": [
      "<class 'pandas.core.frame.DataFrame'>\n",
      "RangeIndex: 1018 entries, 0 to 1017\n",
      "Data columns (total 10 columns):\n",
      " #   Column          Non-Null Count  Dtype  \n",
      "---  ------          --------------  -----  \n",
      " 0   time_on_site    1018 non-null   float64\n",
      " 1   age             1018 non-null   int64  \n",
      " 2   area_income     1018 non-null   float64\n",
      " 3   internet_usage  1018 non-null   float64\n",
      " 4   ad_topic_line   1018 non-null   object \n",
      " 5   city            1018 non-null   object \n",
      " 6   male            1018 non-null   int64  \n",
      " 7   country         1018 non-null   object \n",
      " 8   timestamp       1018 non-null   object \n",
      " 9   clicked         1014 non-null   float64\n",
      "dtypes: float64(4), int64(2), object(4)\n",
      "memory usage: 79.7+ KB\n"
     ]
    }
   ],
   "source": [
    "#ad data summary statistics to aid in cleaning the data\n",
    "ad_data.info()"
   ]
  },
  {
   "cell_type": "code",
   "execution_count": 6,
   "metadata": {},
   "outputs": [
    {
     "name": "stdout",
     "output_type": "stream",
     "text": [
      "<class 'pandas.core.frame.DataFrame'>\n",
      "Int64Index: 1014 entries, 0 to 1017\n",
      "Data columns (total 10 columns):\n",
      " #   Column          Non-Null Count  Dtype  \n",
      "---  ------          --------------  -----  \n",
      " 0   time_on_site    1014 non-null   float64\n",
      " 1   age             1014 non-null   int64  \n",
      " 2   area_income     1014 non-null   float64\n",
      " 3   internet_usage  1014 non-null   float64\n",
      " 4   ad_topic_line   1014 non-null   object \n",
      " 5   city            1014 non-null   object \n",
      " 6   male            1014 non-null   int64  \n",
      " 7   country         1014 non-null   object \n",
      " 8   timestamp       1014 non-null   object \n",
      " 9   clicked         1014 non-null   float64\n",
      "dtypes: float64(4), int64(2), object(4)\n",
      "memory usage: 87.1+ KB\n"
     ]
    }
   ],
   "source": [
    "#4 values are missing the target variable and will not be useful for predicting\n",
    "ad_data = ad_data.dropna(axis=0)\n",
    "ad_data.info()"
   ]
  },
  {
   "cell_type": "code",
   "execution_count": 7,
   "metadata": {},
   "outputs": [
    {
     "data": {
      "text/plain": [
       "7"
      ]
     },
     "execution_count": 7,
     "metadata": {},
     "output_type": "execute_result"
    }
   ],
   "source": [
    "#checking for duplicated records\n",
    "ad_data.duplicated().sum()"
   ]
  },
  {
   "cell_type": "code",
   "execution_count": 8,
   "metadata": {
    "scrolled": true
   },
   "outputs": [
    {
     "name": "stdout",
     "output_type": "stream",
     "text": [
      "<class 'pandas.core.frame.DataFrame'>\n",
      "Int64Index: 1007 entries, 0 to 1017\n",
      "Data columns (total 10 columns):\n",
      " #   Column          Non-Null Count  Dtype  \n",
      "---  ------          --------------  -----  \n",
      " 0   time_on_site    1007 non-null   float64\n",
      " 1   age             1007 non-null   int64  \n",
      " 2   area_income     1007 non-null   float64\n",
      " 3   internet_usage  1007 non-null   float64\n",
      " 4   ad_topic_line   1007 non-null   object \n",
      " 5   city            1007 non-null   object \n",
      " 6   male            1007 non-null   int64  \n",
      " 7   country         1007 non-null   object \n",
      " 8   timestamp       1007 non-null   object \n",
      " 9   clicked         1007 non-null   float64\n",
      "dtypes: float64(4), int64(2), object(4)\n",
      "memory usage: 86.5+ KB\n"
     ]
    }
   ],
   "source": [
    "ad_data = ad_data.drop_duplicates()\n",
    "ad_data.info()"
   ]
  },
  {
   "cell_type": "markdown",
   "metadata": {},
   "source": [
    "-----"
   ]
  },
  {
   "cell_type": "markdown",
   "metadata": {},
   "source": [
    "### Exploratory Data Analysis"
   ]
  },
  {
   "cell_type": "code",
   "execution_count": 9,
   "metadata": {},
   "outputs": [
    {
     "data": {
      "text/plain": [
       "1.0    0.502483\n",
       "0.0    0.497517\n",
       "Name: clicked, dtype: float64"
      ]
     },
     "execution_count": 9,
     "metadata": {},
     "output_type": "execute_result"
    }
   ],
   "source": [
    "#target feature distribution\n",
    "click_rate = ad_data['clicked'].value_counts()/ad_data.shape[0]\n",
    "click_rate"
   ]
  },
  {
   "cell_type": "markdown",
   "metadata": {},
   "source": [
    "The dataset seems to be almost evenly distributed between the target audience that clicked on the ad and those that did not and therefore there will be no need to work on class imbalance"
   ]
  },
  {
   "cell_type": "code",
   "execution_count": 10,
   "metadata": {},
   "outputs": [
    {
     "data": {
      "text/html": [
       "<div>\n",
       "<style scoped>\n",
       "    .dataframe tbody tr th:only-of-type {\n",
       "        vertical-align: middle;\n",
       "    }\n",
       "\n",
       "    .dataframe tbody tr th {\n",
       "        vertical-align: top;\n",
       "    }\n",
       "\n",
       "    .dataframe thead th {\n",
       "        text-align: right;\n",
       "    }\n",
       "</style>\n",
       "<table border=\"1\" class=\"dataframe\">\n",
       "  <thead>\n",
       "    <tr style=\"text-align: right;\">\n",
       "      <th></th>\n",
       "      <th>time_on_site</th>\n",
       "      <th>age</th>\n",
       "      <th>area_income</th>\n",
       "      <th>internet_usage</th>\n",
       "      <th>male</th>\n",
       "      <th>clicked</th>\n",
       "    </tr>\n",
       "  </thead>\n",
       "  <tbody>\n",
       "    <tr>\n",
       "      <th>count</th>\n",
       "      <td>1007.000000</td>\n",
       "      <td>1007.000000</td>\n",
       "      <td>1007.000000</td>\n",
       "      <td>1007.000000</td>\n",
       "      <td>1007.000000</td>\n",
       "      <td>1007.000000</td>\n",
       "    </tr>\n",
       "    <tr>\n",
       "      <th>mean</th>\n",
       "      <td>64.952403</td>\n",
       "      <td>36.958292</td>\n",
       "      <td>54899.398868</td>\n",
       "      <td>179.386514</td>\n",
       "      <td>0.482622</td>\n",
       "      <td>0.502483</td>\n",
       "    </tr>\n",
       "    <tr>\n",
       "      <th>std</th>\n",
       "      <td>15.850441</td>\n",
       "      <td>31.729539</td>\n",
       "      <td>13458.555374</td>\n",
       "      <td>44.548765</td>\n",
       "      <td>0.499946</td>\n",
       "      <td>0.500242</td>\n",
       "    </tr>\n",
       "    <tr>\n",
       "      <th>min</th>\n",
       "      <td>32.600000</td>\n",
       "      <td>-25.000000</td>\n",
       "      <td>13996.500000</td>\n",
       "      <td>23.640000</td>\n",
       "      <td>0.000000</td>\n",
       "      <td>0.000000</td>\n",
       "    </tr>\n",
       "    <tr>\n",
       "      <th>25%</th>\n",
       "      <td>51.270000</td>\n",
       "      <td>29.000000</td>\n",
       "      <td>46899.780000</td>\n",
       "      <td>138.490000</td>\n",
       "      <td>0.000000</td>\n",
       "      <td>0.000000</td>\n",
       "    </tr>\n",
       "    <tr>\n",
       "      <th>50%</th>\n",
       "      <td>68.100000</td>\n",
       "      <td>35.000000</td>\n",
       "      <td>56984.090000</td>\n",
       "      <td>182.200000</td>\n",
       "      <td>0.000000</td>\n",
       "      <td>1.000000</td>\n",
       "    </tr>\n",
       "    <tr>\n",
       "      <th>75%</th>\n",
       "      <td>78.535000</td>\n",
       "      <td>42.000000</td>\n",
       "      <td>65350.775000</td>\n",
       "      <td>218.550000</td>\n",
       "      <td>1.000000</td>\n",
       "      <td>1.000000</td>\n",
       "    </tr>\n",
       "    <tr>\n",
       "      <th>max</th>\n",
       "      <td>91.430000</td>\n",
       "      <td>999.000000</td>\n",
       "      <td>79484.800000</td>\n",
       "      <td>269.960000</td>\n",
       "      <td>1.000000</td>\n",
       "      <td>1.000000</td>\n",
       "    </tr>\n",
       "  </tbody>\n",
       "</table>\n",
       "</div>"
      ],
      "text/plain": [
       "       time_on_site          age   area_income  internet_usage         male  \\\n",
       "count   1007.000000  1007.000000   1007.000000     1007.000000  1007.000000   \n",
       "mean      64.952403    36.958292  54899.398868      179.386514     0.482622   \n",
       "std       15.850441    31.729539  13458.555374       44.548765     0.499946   \n",
       "min       32.600000   -25.000000  13996.500000       23.640000     0.000000   \n",
       "25%       51.270000    29.000000  46899.780000      138.490000     0.000000   \n",
       "50%       68.100000    35.000000  56984.090000      182.200000     0.000000   \n",
       "75%       78.535000    42.000000  65350.775000      218.550000     1.000000   \n",
       "max       91.430000   999.000000  79484.800000      269.960000     1.000000   \n",
       "\n",
       "           clicked  \n",
       "count  1007.000000  \n",
       "mean      0.502483  \n",
       "std       0.500242  \n",
       "min       0.000000  \n",
       "25%       0.000000  \n",
       "50%       1.000000  \n",
       "75%       1.000000  \n",
       "max       1.000000  "
      ]
     },
     "execution_count": 10,
     "metadata": {},
     "output_type": "execute_result"
    }
   ],
   "source": [
    "ad_data.describe()"
   ]
  },
  {
   "cell_type": "markdown",
   "metadata": {},
   "source": [
    "The age column seems to have a min value that is not valid. Based on most advertising standards/clients (need to verify this). We do not target consumers below the age of 18, the max value is also suspect since it is 999."
   ]
  },
  {
   "cell_type": "code",
   "execution_count": 11,
   "metadata": {
    "scrolled": false
   },
   "outputs": [
    {
     "data": {
      "text/plain": [
       "294   -25\n",
       "823     8\n",
       "713    19\n",
       "358    19\n",
       "785    19\n",
       "Name: age, dtype: int64"
      ]
     },
     "execution_count": 11,
     "metadata": {},
     "output_type": "execute_result"
    }
   ],
   "source": [
    "#closer look at the target audience below the age of 18\n",
    "#set the age limit to 18\n",
    "ad_data.age.sort_values().head()"
   ]
  },
  {
   "cell_type": "code",
   "execution_count": 12,
   "metadata": {},
   "outputs": [
    {
     "data": {
      "text/plain": [
       "495    999\n",
       "604    103\n",
       "684     61\n",
       "185     60\n",
       "635     60\n",
       "Name: age, dtype: int64"
      ]
     },
     "execution_count": 12,
     "metadata": {},
     "output_type": "execute_result"
    }
   ],
   "source": [
    "ad_data.age.sort_values(ascending=False).head()\n",
    "#there are two values that are above 100"
   ]
  },
  {
   "cell_type": "code",
   "execution_count": 13,
   "metadata": {},
   "outputs": [],
   "source": [
    "#remove the extra age values\n",
    "ad_data = ad_data[(ad_data['age'] >= 18) & (ad_data['age'] < 100)]"
   ]
  },
  {
   "cell_type": "code",
   "execution_count": 14,
   "metadata": {},
   "outputs": [],
   "source": [
    "#the daily time spent on the site by a consumer should be less than the daily time spent on the internet by the consumer\n",
    "ad_data['delta'] = ad_data['internet_usage'] - ad_data['time_on_site']"
   ]
  },
  {
   "cell_type": "code",
   "execution_count": 15,
   "metadata": {},
   "outputs": [
    {
     "data": {
      "text/plain": [
       "3"
      ]
     },
     "execution_count": 15,
     "metadata": {},
     "output_type": "execute_result"
    }
   ],
   "source": [
    "sum(ad_data['delta'] < 0)"
   ]
  },
  {
   "cell_type": "code",
   "execution_count": 16,
   "metadata": {},
   "outputs": [],
   "source": [
    "#remove the three observations in the data where the daily internet usage is less than the time spent on site\n",
    "ad_data = ad_data[ad_data['delta'] >= 0]"
   ]
  },
  {
   "cell_type": "code",
   "execution_count": 17,
   "metadata": {
    "scrolled": true
   },
   "outputs": [
    {
     "data": {
      "text/html": [
       "<div>\n",
       "<style scoped>\n",
       "    .dataframe tbody tr th:only-of-type {\n",
       "        vertical-align: middle;\n",
       "    }\n",
       "\n",
       "    .dataframe tbody tr th {\n",
       "        vertical-align: top;\n",
       "    }\n",
       "\n",
       "    .dataframe thead th {\n",
       "        text-align: right;\n",
       "    }\n",
       "</style>\n",
       "<table border=\"1\" class=\"dataframe\">\n",
       "  <thead>\n",
       "    <tr style=\"text-align: right;\">\n",
       "      <th></th>\n",
       "      <th>time_on_site</th>\n",
       "      <th>age</th>\n",
       "      <th>area_income</th>\n",
       "      <th>internet_usage</th>\n",
       "      <th>ad_topic_line</th>\n",
       "      <th>city</th>\n",
       "      <th>male</th>\n",
       "      <th>country</th>\n",
       "      <th>timestamp</th>\n",
       "      <th>clicked</th>\n",
       "    </tr>\n",
       "  </thead>\n",
       "  <tbody>\n",
       "    <tr>\n",
       "      <th>0</th>\n",
       "      <td>68.95</td>\n",
       "      <td>35</td>\n",
       "      <td>61833.90</td>\n",
       "      <td>256.09</td>\n",
       "      <td>Cloned 5thgeneration orchestration</td>\n",
       "      <td>Wrightburgh</td>\n",
       "      <td>0</td>\n",
       "      <td>Tunisia</td>\n",
       "      <td>2016-03-27 0:53</td>\n",
       "      <td>0.0</td>\n",
       "    </tr>\n",
       "    <tr>\n",
       "      <th>1</th>\n",
       "      <td>80.23</td>\n",
       "      <td>31</td>\n",
       "      <td>68441.85</td>\n",
       "      <td>193.77</td>\n",
       "      <td>Monitored national standardization</td>\n",
       "      <td>West Jodi</td>\n",
       "      <td>1</td>\n",
       "      <td>Nauru</td>\n",
       "      <td>2016-04-04 1:39</td>\n",
       "      <td>0.0</td>\n",
       "    </tr>\n",
       "    <tr>\n",
       "      <th>2</th>\n",
       "      <td>69.47</td>\n",
       "      <td>26</td>\n",
       "      <td>59785.94</td>\n",
       "      <td>236.50</td>\n",
       "      <td>Organic bottom-line service-desk</td>\n",
       "      <td>Davidton</td>\n",
       "      <td>0</td>\n",
       "      <td>San Marino</td>\n",
       "      <td>2016-03-13 20:35</td>\n",
       "      <td>0.0</td>\n",
       "    </tr>\n",
       "    <tr>\n",
       "      <th>3</th>\n",
       "      <td>74.15</td>\n",
       "      <td>29</td>\n",
       "      <td>54806.18</td>\n",
       "      <td>245.89</td>\n",
       "      <td>Triple-buffered reciprocal time-frame</td>\n",
       "      <td>West Terrifurt</td>\n",
       "      <td>1</td>\n",
       "      <td>Italy</td>\n",
       "      <td>2016-01-10 2:31</td>\n",
       "      <td>0.0</td>\n",
       "    </tr>\n",
       "    <tr>\n",
       "      <th>4</th>\n",
       "      <td>68.37</td>\n",
       "      <td>35</td>\n",
       "      <td>73889.99</td>\n",
       "      <td>225.58</td>\n",
       "      <td>Robust logistical utilization</td>\n",
       "      <td>South Manuel</td>\n",
       "      <td>0</td>\n",
       "      <td>Iceland</td>\n",
       "      <td>2016-06-03 3:36</td>\n",
       "      <td>0.0</td>\n",
       "    </tr>\n",
       "  </tbody>\n",
       "</table>\n",
       "</div>"
      ],
      "text/plain": [
       "   time_on_site  age  area_income  internet_usage  \\\n",
       "0         68.95   35     61833.90          256.09   \n",
       "1         80.23   31     68441.85          193.77   \n",
       "2         69.47   26     59785.94          236.50   \n",
       "3         74.15   29     54806.18          245.89   \n",
       "4         68.37   35     73889.99          225.58   \n",
       "\n",
       "                           ad_topic_line            city  male     country  \\\n",
       "0     Cloned 5thgeneration orchestration     Wrightburgh     0     Tunisia   \n",
       "1     Monitored national standardization       West Jodi     1       Nauru   \n",
       "2       Organic bottom-line service-desk        Davidton     0  San Marino   \n",
       "3  Triple-buffered reciprocal time-frame  West Terrifurt     1       Italy   \n",
       "4          Robust logistical utilization    South Manuel     0     Iceland   \n",
       "\n",
       "          timestamp  clicked  \n",
       "0   2016-03-27 0:53      0.0  \n",
       "1   2016-04-04 1:39      0.0  \n",
       "2  2016-03-13 20:35      0.0  \n",
       "3   2016-01-10 2:31      0.0  \n",
       "4   2016-06-03 3:36      0.0  "
      ]
     },
     "execution_count": 17,
     "metadata": {},
     "output_type": "execute_result"
    }
   ],
   "source": [
    "#interesting feature to include at would be what percentage of the time spent on the internet is spent on the site\n",
    "#time on site/time on internet\n",
    "ad_data = ad_data.drop('delta', axis=1)\n",
    "ad_data.head()"
   ]
  },
  {
   "cell_type": "code",
   "execution_count": 18,
   "metadata": {
    "scrolled": true
   },
   "outputs": [
    {
     "data": {
      "text/html": [
       "<div>\n",
       "<style scoped>\n",
       "    .dataframe tbody tr th:only-of-type {\n",
       "        vertical-align: middle;\n",
       "    }\n",
       "\n",
       "    .dataframe tbody tr th {\n",
       "        vertical-align: top;\n",
       "    }\n",
       "\n",
       "    .dataframe thead th {\n",
       "        text-align: right;\n",
       "    }\n",
       "</style>\n",
       "<table border=\"1\" class=\"dataframe\">\n",
       "  <thead>\n",
       "    <tr style=\"text-align: right;\">\n",
       "      <th></th>\n",
       "      <th>ad_topic_line</th>\n",
       "      <th>city</th>\n",
       "      <th>country</th>\n",
       "      <th>timestamp</th>\n",
       "    </tr>\n",
       "  </thead>\n",
       "  <tbody>\n",
       "    <tr>\n",
       "      <th>count</th>\n",
       "      <td>1000</td>\n",
       "      <td>1000</td>\n",
       "      <td>1000</td>\n",
       "      <td>1000</td>\n",
       "    </tr>\n",
       "    <tr>\n",
       "      <th>unique</th>\n",
       "      <td>1000</td>\n",
       "      <td>969</td>\n",
       "      <td>237</td>\n",
       "      <td>997</td>\n",
       "    </tr>\n",
       "    <tr>\n",
       "      <th>top</th>\n",
       "      <td>Polarized multimedia system engine</td>\n",
       "      <td>Lisamouth</td>\n",
       "      <td>France</td>\n",
       "      <td>2016-05-30 8:02</td>\n",
       "    </tr>\n",
       "    <tr>\n",
       "      <th>freq</th>\n",
       "      <td>1</td>\n",
       "      <td>3</td>\n",
       "      <td>9</td>\n",
       "      <td>2</td>\n",
       "    </tr>\n",
       "  </tbody>\n",
       "</table>\n",
       "</div>"
      ],
      "text/plain": [
       "                             ad_topic_line       city country        timestamp\n",
       "count                                 1000       1000    1000             1000\n",
       "unique                                1000        969     237              997\n",
       "top     Polarized multimedia system engine  Lisamouth  France  2016-05-30 8:02\n",
       "freq                                     1          3       9                2"
      ]
     },
     "execution_count": 18,
     "metadata": {},
     "output_type": "execute_result"
    }
   ],
   "source": [
    "#summary of the categorical features\n",
    "ad_data.describe(include='object')"
   ]
  },
  {
   "cell_type": "markdown",
   "metadata": {},
   "source": [
    "Based on the above information, the ad topic line had 1000, different values and would not be the best indicator of whether a consumer clicked on an ad since it seems that they were all running different ad copy. However, closer investigation using Natural Language Processing might reveal more which I will not pursue in this project. \n",
    "\n",
    "The consumers are from 696 different cities except for about 31 which also would mean that this would not be the best indicator of whether they click on an ad.\n",
    "For this project, I will not explore whether the country that a consumer is in affected their decision to click on an ad. The assumption is that the client's product is sold globably and online and so is the media company that is running the ad. Therefore people from different countries have access to it and would be equally inclined to click on the ad.\n",
    "\n",
    "This project will also not be focused on the time of day. Time series analysis would however, be useful in carrying out further analysis."
   ]
  },
  {
   "cell_type": "markdown",
   "metadata": {},
   "source": [
    "-----"
   ]
  },
  {
   "cell_type": "markdown",
   "metadata": {},
   "source": [
    "### EDA Vizualizations"
   ]
  },
  {
   "cell_type": "code",
   "execution_count": 19,
   "metadata": {},
   "outputs": [],
   "source": [
    "num_vars = ['time_on_site', 'age', 'area_income', 'internet_usage']\n",
    "cat_vars = ['male', 'clicked']\n",
    "target = ['clicked']"
   ]
  },
  {
   "cell_type": "code",
   "execution_count": 20,
   "metadata": {},
   "outputs": [],
   "source": [
    "#create a function to show the distribution of features to investigate the presence of outliers\n",
    "#function seems to only plot two items (investigate why a third feature is not plotted)\n",
    "def plots(feature):\n",
    "    for item in numerical_data:\n",
    "        plt.figure(figsize=(12,5))\n",
    "        plt.subplot(1,2,1)\n",
    "        sns.distplot(item, color = 'blue')\n",
    "        \n",
    "        plt.subplot(1,2,2)\n",
    "        sns.boxplot(item, color='red')\n",
    "        plt.show()"
   ]
  },
  {
   "cell_type": "code",
   "execution_count": 21,
   "metadata": {
    "scrolled": false
   },
   "outputs": [
    {
     "data": {
      "image/png": "[encoded data removed]",
      "text/plain": [
       "<Figure size 864x360 with 2 Axes>"
      ]
     },
     "metadata": {
      "needs_background": "light"
     },
     "output_type": "display_data"
    },
    {
     "data": {
      "image/png": "[encoded data removed]",
      "text/plain": [
       "<Figure size 864x360 with 2 Axes>"
      ]
     },
     "metadata": {
      "needs_background": "light"
     },
     "output_type": "display_data"
    },
    {
     "data": {
      "image/png": "[encoded data removed]",
      "text/plain": [
       "<Figure size 864x360 with 2 Axes>"
      ]
     },
     "metadata": {
      "needs_background": "light"
     },
     "output_type": "display_data"
    },
    {
     "data": {
      "image/png": "[encoded data removed]",
      "text/plain": [
       "<Figure size 864x360 with 2 Axes>"
      ]
     },
     "metadata": {
      "needs_background": "light"
     },
     "output_type": "display_data"
    }
   ],
   "source": [
    "numerical_data= [ad_data.time_on_site, ad_data.age, ad_data.area_income, ad_data.internet_usage]\n",
    "plots(numerical_data)"
   ]
  },
  {
   "cell_type": "markdown",
   "metadata": {},
   "source": [
    "Area income has potential outliers. It's distribution is also skewed to the left and is a potential candidate for transformation prior to modeling."
   ]
  },
  {
   "cell_type": "code",
   "execution_count": 22,
   "metadata": {
    "scrolled": true
   },
   "outputs": [
    {
     "name": "stdout",
     "output_type": "stream",
     "text": [
      "count     1000.000000\n",
      "mean     55000.000080\n",
      "std      13414.634022\n",
      "min      13996.500000\n",
      "25%      47031.802500\n",
      "50%      57012.300000\n",
      "75%      65470.635000\n",
      "max      79484.800000\n",
      "Name: area_income, dtype: float64\n",
      "The upper and lower limits are 93128.88375000001 and 19373.553749999992, respectively.\n"
     ]
    }
   ],
   "source": [
    "income = ad_data.area_income.describe()\n",
    "print(income)\n",
    "\n",
    "IQR = income['75%'] - income['25%']\n",
    "upper = income['75%'] + (1.5*IQR)\n",
    "lower = income['25%'] - (1.5*IQR)\n",
    "\n",
    "print('The upper and lower limits are {} and {}, respectively.'. format(upper, lower))"
   ]
  },
  {
   "cell_type": "code",
   "execution_count": 23,
   "metadata": {
    "scrolled": false
   },
   "outputs": [
    {
     "data": {
      "text/html": [
       "<div>\n",
       "<style scoped>\n",
       "    .dataframe tbody tr th:only-of-type {\n",
       "        vertical-align: middle;\n",
       "    }\n",
       "\n",
       "    .dataframe tbody tr th {\n",
       "        vertical-align: top;\n",
       "    }\n",
       "\n",
       "    .dataframe thead th {\n",
       "        text-align: right;\n",
       "    }\n",
       "</style>\n",
       "<table border=\"1\" class=\"dataframe\">\n",
       "  <thead>\n",
       "    <tr style=\"text-align: right;\">\n",
       "      <th></th>\n",
       "      <th>time_on_site</th>\n",
       "      <th>age</th>\n",
       "      <th>area_income</th>\n",
       "      <th>internet_usage</th>\n",
       "      <th>ad_topic_line</th>\n",
       "      <th>city</th>\n",
       "      <th>male</th>\n",
       "      <th>country</th>\n",
       "      <th>timestamp</th>\n",
       "      <th>clicked</th>\n",
       "    </tr>\n",
       "  </thead>\n",
       "  <tbody>\n",
       "    <tr>\n",
       "      <th>137</th>\n",
       "      <td>49.89</td>\n",
       "      <td>39</td>\n",
       "      <td>17709.98</td>\n",
       "      <td>160.03</td>\n",
       "      <td>Enhanced system-worthy application</td>\n",
       "      <td>East Michele</td>\n",
       "      <td>1</td>\n",
       "      <td>Belize</td>\n",
       "      <td>2016-04-16 12:09</td>\n",
       "      <td>1.0</td>\n",
       "    </tr>\n",
       "    <tr>\n",
       "      <th>420</th>\n",
       "      <td>48.09</td>\n",
       "      <td>33</td>\n",
       "      <td>19345.36</td>\n",
       "      <td>180.42</td>\n",
       "      <td>Balanced motivating help-desk</td>\n",
       "      <td>West Travismouth</td>\n",
       "      <td>0</td>\n",
       "      <td>Heard Island and McDonald Islands</td>\n",
       "      <td>2016-05-28 12:38</td>\n",
       "      <td>1.0</td>\n",
       "    </tr>\n",
       "    <tr>\n",
       "      <th>522</th>\n",
       "      <td>57.86</td>\n",
       "      <td>30</td>\n",
       "      <td>18819.34</td>\n",
       "      <td>166.86</td>\n",
       "      <td>Horizontal modular success</td>\n",
       "      <td>Estesfurt</td>\n",
       "      <td>0</td>\n",
       "      <td>Algeria</td>\n",
       "      <td>2016-07-08 17:14</td>\n",
       "      <td>1.0</td>\n",
       "    </tr>\n",
       "    <tr>\n",
       "      <th>653</th>\n",
       "      <td>64.63</td>\n",
       "      <td>45</td>\n",
       "      <td>15598.29</td>\n",
       "      <td>158.80</td>\n",
       "      <td>Triple-buffered high-level Internet solution</td>\n",
       "      <td>Isaacborough</td>\n",
       "      <td>1</td>\n",
       "      <td>Azerbaijan</td>\n",
       "      <td>2016-06-12 3:11</td>\n",
       "      <td>1.0</td>\n",
       "    </tr>\n",
       "    <tr>\n",
       "      <th>678</th>\n",
       "      <td>58.05</td>\n",
       "      <td>32</td>\n",
       "      <td>15879.10</td>\n",
       "      <td>195.54</td>\n",
       "      <td>Total asynchronous architecture</td>\n",
       "      <td>Sanderstown</td>\n",
       "      <td>1</td>\n",
       "      <td>Tajikistan</td>\n",
       "      <td>2016-02-12 10:39</td>\n",
       "      <td>1.0</td>\n",
       "    </tr>\n",
       "    <tr>\n",
       "      <th>705</th>\n",
       "      <td>66.26</td>\n",
       "      <td>47</td>\n",
       "      <td>14548.06</td>\n",
       "      <td>179.04</td>\n",
       "      <td>Optional full-range projection</td>\n",
       "      <td>Matthewtown</td>\n",
       "      <td>1</td>\n",
       "      <td>Lebanon</td>\n",
       "      <td>2016-04-25 19:31</td>\n",
       "      <td>1.0</td>\n",
       "    </tr>\n",
       "    <tr>\n",
       "      <th>782</th>\n",
       "      <td>68.58</td>\n",
       "      <td>41</td>\n",
       "      <td>13996.50</td>\n",
       "      <td>171.54</td>\n",
       "      <td>Exclusive discrete firmware</td>\n",
       "      <td>New Williamville</td>\n",
       "      <td>1</td>\n",
       "      <td>El Salvador</td>\n",
       "      <td>2016-07-06 12:04</td>\n",
       "      <td>1.0</td>\n",
       "    </tr>\n",
       "    <tr>\n",
       "      <th>792</th>\n",
       "      <td>52.67</td>\n",
       "      <td>44</td>\n",
       "      <td>14775.50</td>\n",
       "      <td>191.26</td>\n",
       "      <td>Persevering 5thgeneration knowledge user</td>\n",
       "      <td>New Hollyberg</td>\n",
       "      <td>0</td>\n",
       "      <td>Jersey</td>\n",
       "      <td>2016-05-19 6:37</td>\n",
       "      <td>1.0</td>\n",
       "    </tr>\n",
       "    <tr>\n",
       "      <th>970</th>\n",
       "      <td>62.79</td>\n",
       "      <td>36</td>\n",
       "      <td>18368.57</td>\n",
       "      <td>231.87</td>\n",
       "      <td>Total coherent archive</td>\n",
       "      <td>New James</td>\n",
       "      <td>1</td>\n",
       "      <td>Luxembourg</td>\n",
       "      <td>2016-05-30 20:08</td>\n",
       "      <td>1.0</td>\n",
       "    </tr>\n",
       "  </tbody>\n",
       "</table>\n",
       "</div>"
      ],
      "text/plain": [
       "     time_on_site  age  area_income  internet_usage  \\\n",
       "137         49.89   39     17709.98          160.03   \n",
       "420         48.09   33     19345.36          180.42   \n",
       "522         57.86   30     18819.34          166.86   \n",
       "653         64.63   45     15598.29          158.80   \n",
       "678         58.05   32     15879.10          195.54   \n",
       "705         66.26   47     14548.06          179.04   \n",
       "782         68.58   41     13996.50          171.54   \n",
       "792         52.67   44     14775.50          191.26   \n",
       "970         62.79   36     18368.57          231.87   \n",
       "\n",
       "                                    ad_topic_line              city  male  \\\n",
       "137            Enhanced system-worthy application      East Michele     1   \n",
       "420                 Balanced motivating help-desk  West Travismouth     0   \n",
       "522                    Horizontal modular success         Estesfurt     0   \n",
       "653  Triple-buffered high-level Internet solution      Isaacborough     1   \n",
       "678               Total asynchronous architecture       Sanderstown     1   \n",
       "705                Optional full-range projection       Matthewtown     1   \n",
       "782                   Exclusive discrete firmware  New Williamville     1   \n",
       "792      Persevering 5thgeneration knowledge user     New Hollyberg     0   \n",
       "970                        Total coherent archive         New James     1   \n",
       "\n",
       "                               country         timestamp  clicked  \n",
       "137                             Belize  2016-04-16 12:09      1.0  \n",
       "420  Heard Island and McDonald Islands  2016-05-28 12:38      1.0  \n",
       "522                            Algeria  2016-07-08 17:14      1.0  \n",
       "653                         Azerbaijan   2016-06-12 3:11      1.0  \n",
       "678                         Tajikistan  2016-02-12 10:39      1.0  \n",
       "705                            Lebanon  2016-04-25 19:31      1.0  \n",
       "782                        El Salvador  2016-07-06 12:04      1.0  \n",
       "792                             Jersey   2016-05-19 6:37      1.0  \n",
       "970                         Luxembourg  2016-05-30 20:08      1.0  "
      ]
     },
     "execution_count": 23,
     "metadata": {},
     "output_type": "execute_result"
    }
   ],
   "source": [
    "low_income = ad_data[ad_data['area_income'] < 19373.55]\n",
    "low_income"
   ]
  },
  {
   "cell_type": "markdown",
   "metadata": {},
   "source": [
    "The sample dataset has an average income of 55000USD, including the above observations makes sense especially most are from low income countries and we can make the assumption that the consumers have a high disposable income"
   ]
  },
  {
   "cell_type": "markdown",
   "metadata": {},
   "source": [
    "### Correlation"
   ]
  },
  {
   "cell_type": "code",
   "execution_count": 24,
   "metadata": {},
   "outputs": [
    {
     "data": {
      "image/png": "[encoded data removed]",
      "text/plain": [
       "<Figure size 648x576 with 2 Axes>"
      ]
     },
     "metadata": {
      "needs_background": "light"
     },
     "output_type": "display_data"
    }
   ],
   "source": [
    "#create a correlation matrix to see what features most correlate with the target\n",
    "corr = ad_data.corr()\n",
    "\n",
    "#creating a heatmap and additionally, a boolean mask of zeros and ones\n",
    "mask = np.zeros_like(corr)   #creates an array of zeros with the same shape as a given array\n",
    "mask[np.triu_indices_from(mask)] = 1  #returns the indices for the upper triangle of an array\n",
    "\n",
    "\n",
    "cor_obj = plt.figure(figsize=(9,8))\n",
    "sns.heatmap(corr, \n",
    "           annot=True,\n",
    "           cmap='coolwarm',\n",
    "           #fmt = '.0f',\n",
    "           vmin=-1,\n",
    "           vmax=1,\n",
    "           mask = mask)\n",
    "\n",
    "plt.show()\n",
    "cor_obj.savefig('correlation2.png')\n"
   ]
  },
  {
   "cell_type": "markdown",
   "metadata": {},
   "source": [
    "There seems to be a strong relationship between most features and the target feature except for clicking on an ad"
   ]
  },
  {
   "cell_type": "markdown",
   "metadata": {},
   "source": [
    "### Further visual exploration of the features"
   ]
  },
  {
   "cell_type": "code",
   "execution_count": 25,
   "metadata": {
    "scrolled": false
   },
   "outputs": [
    {
     "data": {
      "image/png": "[encoded data removed]",
      "text/plain": [
       "<Figure size 720x360 with 1 Axes>"
      ]
     },
     "metadata": {},
     "output_type": "display_data"
    }
   ],
   "source": [
    "sns.set_style('white')\n",
    "g = sns.FacetGrid(ad_data, hue='clicked', palette='Set1', height=5, aspect=2)\n",
    "g = g.map(plt.hist, 'time_on_site', bins=20, alpha=0.9)\n",
    "plt.title('Distribution of Time Spent on Site', fontsize=15)\n",
    "plt.legend()\n",
    "plt.show()\n",
    "g.savefig('TimeOnSite.png')"
   ]
  },
  {
   "cell_type": "markdown",
   "metadata": {},
   "source": [
    "**Time on site** -- People who spent less time on the site were more likely to click on the ad. This might be because, people who spent more time on the site probably had a specific goal as to why they clicked on the site for example if the assumption is that this is a lifestyle website, they specifically are on the site to read an article.\n",
    "Information on what type of website this data is from might be more helpful in deciding how to convert these audience. For example, running a native ad so that they are exposed to the product and hence possibly get them to click on the ad."
   ]
  },
  {
   "cell_type": "code",
   "execution_count": 26,
   "metadata": {
    "scrolled": false
   },
   "outputs": [
    {
     "data": {
      "image/png": "[encoded data removed]",
      "text/plain": [
       "<Figure size 720x360 with 1 Axes>"
      ]
     },
     "metadata": {},
     "output_type": "display_data"
    }
   ],
   "source": [
    "g = sns.FacetGrid(ad_data, hue='clicked', palette='Set1', height=5, aspect=2)\n",
    "g = g.map(plt.hist, 'internet_usage', bins=20, alpha=0.9)\n",
    "plt.title('Distribution of Daily Internet Usage', fontsize=15)\n",
    "plt.legend()\n",
    "plt.show()\n",
    "g.savefig ('InternetUsage.png')"
   ]
  },
  {
   "cell_type": "markdown",
   "metadata": {},
   "source": [
    "**Daily Internet Usage** -- Surprisingly, people who spent more time on the internet were less likely to click on the ad. Actual information on the type of product/service would be more useful in gaining more insight into this."
   ]
  },
  {
   "cell_type": "code",
   "execution_count": 27,
   "metadata": {},
   "outputs": [
    {
     "data": {
      "image/png": "[encoded data removed]",
      "text/plain": [
       "<Figure size 720x360 with 1 Axes>"
      ]
     },
     "metadata": {},
     "output_type": "display_data"
    }
   ],
   "source": [
    "g = sns.FacetGrid(ad_data, hue='clicked', palette='Set1', height=5, aspect=2)\n",
    "g = g.map(plt.hist, 'area_income', bins=20, alpha=0.9)\n",
    "plt.title('Distribution of Area Income', fontsize=15)\n",
    "plt.legend()\n",
    "plt.show()\n",
    "g.savefig ('AreaIncome.png')"
   ]
  },
  {
   "cell_type": "markdown",
   "metadata": {},
   "source": [
    "**Distribution of Area Income** --The overall distribution revealed left-skeweness. However, people who are less likely to click on the ad have a higher income. This partly explains the negative correlation with income."
   ]
  },
  {
   "cell_type": "code",
   "execution_count": 28,
   "metadata": {},
   "outputs": [
    {
     "data": {
      "image/png": "[encoded data removed]",
      "text/plain": [
       "<Figure size 720x360 with 1 Axes>"
      ]
     },
     "metadata": {},
     "output_type": "display_data"
    }
   ],
   "source": [
    "g = sns.FacetGrid(ad_data, hue='clicked', palette='Set1', height=5, aspect=2)\n",
    "g = g.map(plt.hist, 'age', bins=20, alpha=0.7)\n",
    "plt.title('Distribution Based on Age', fontsize=15)\n",
    "plt.legend()\n",
    "plt.show()\n",
    "g.savefig ('Age.png')"
   ]
  },
  {
   "cell_type": "markdown",
   "metadata": {},
   "source": [
    "**Age**-- Overall age distribution is right-skewed. Based on the above chart, younger people are less likely to click on the ad."
   ]
  },
  {
   "cell_type": "markdown",
   "metadata": {},
   "source": [
    "## Part 3 - DEVELOP"
   ]
  },
  {
   "cell_type": "markdown",
   "metadata": {},
   "source": [
    "## Feature Engineering "
   ]
  },
  {
   "cell_type": "markdown",
   "metadata": {},
   "source": [
    "### Log Transform "
   ]
  },
  {
   "cell_type": "markdown",
   "metadata": {},
   "source": [
    "Skewness tends to adversely affect model's performance and introduces bias to the model, we can log transform the features that are skewed, in this case age and area income. This reduces the distribution's range."
   ]
  },
  {
   "cell_type": "code",
   "execution_count": 29,
   "metadata": {},
   "outputs": [],
   "source": [
    "ad_data['log_age'] = np.log(ad_data['age'])\n",
    "ad_data[\"log_income\"] = np.log(ad_data['area_income'])"
   ]
  },
  {
   "cell_type": "markdown",
   "metadata": {},
   "source": [
    "### Removing Some Features"
   ]
  },
  {
   "cell_type": "markdown",
   "metadata": {},
   "source": [
    "Ad Topic Line would require NLP to analyze and Timestamp would require Time Series Analysis. City and Country also would require more analysis. Furthermore, we will exclude location since we have too many countries and cities which would likely not yield useful results."
   ]
  },
  {
   "cell_type": "code",
   "execution_count": 30,
   "metadata": {},
   "outputs": [],
   "source": [
    "ad_data = ad_data.drop(['ad_topic_line', 'city', 'country', 'timestamp'], axis = 1)"
   ]
  },
  {
   "cell_type": "markdown",
   "metadata": {},
   "source": [
    "### Normalization of Features"
   ]
  },
  {
   "cell_type": "code",
   "execution_count": 31,
   "metadata": {},
   "outputs": [],
   "source": [
    "# Defining categorical, numerical, and datetime variables that we will use later\n",
    "categorical_vars = [\"ad_topic_line\", \"city\", \"country\"]\n",
    "numerical_vars = [\"time_on_site\", \"log_income\", \"internet_usage\", \"male\", \"log_age\"]\n",
    "datetime_vars = \"timestamp\"\n",
    "target = \"clicked\""
   ]
  },
  {
   "cell_type": "code",
   "execution_count": 32,
   "metadata": {
    "scrolled": true
   },
   "outputs": [
    {
     "data": {
      "text/html": [
       "<div>\n",
       "<style scoped>\n",
       "    .dataframe tbody tr th:only-of-type {\n",
       "        vertical-align: middle;\n",
       "    }\n",
       "\n",
       "    .dataframe tbody tr th {\n",
       "        vertical-align: top;\n",
       "    }\n",
       "\n",
       "    .dataframe thead th {\n",
       "        text-align: right;\n",
       "    }\n",
       "</style>\n",
       "<table border=\"1\" class=\"dataframe\">\n",
       "  <thead>\n",
       "    <tr style=\"text-align: right;\">\n",
       "      <th></th>\n",
       "      <th>time_on_site</th>\n",
       "      <th>age</th>\n",
       "      <th>area_income</th>\n",
       "      <th>internet_usage</th>\n",
       "      <th>male</th>\n",
       "      <th>clicked</th>\n",
       "      <th>log_age</th>\n",
       "      <th>log_income</th>\n",
       "    </tr>\n",
       "  </thead>\n",
       "  <tbody>\n",
       "    <tr>\n",
       "      <th>0</th>\n",
       "      <td>0.617882</td>\n",
       "      <td>35</td>\n",
       "      <td>61833.90</td>\n",
       "      <td>0.916031</td>\n",
       "      <td>0.0</td>\n",
       "      <td>0.0</td>\n",
       "      <td>0.523740</td>\n",
       "      <td>0.855412</td>\n",
       "    </tr>\n",
       "    <tr>\n",
       "      <th>1</th>\n",
       "      <td>0.809621</td>\n",
       "      <td>31</td>\n",
       "      <td>68441.85</td>\n",
       "      <td>0.538746</td>\n",
       "      <td>1.0</td>\n",
       "      <td>0.0</td>\n",
       "      <td>0.419696</td>\n",
       "      <td>0.913873</td>\n",
       "    </tr>\n",
       "    <tr>\n",
       "      <th>2</th>\n",
       "      <td>0.626721</td>\n",
       "      <td>26</td>\n",
       "      <td>59785.94</td>\n",
       "      <td>0.797433</td>\n",
       "      <td>0.0</td>\n",
       "      <td>0.0</td>\n",
       "      <td>0.268903</td>\n",
       "      <td>0.836019</td>\n",
       "    </tr>\n",
       "    <tr>\n",
       "      <th>3</th>\n",
       "      <td>0.706272</td>\n",
       "      <td>29</td>\n",
       "      <td>54806.18</td>\n",
       "      <td>0.854280</td>\n",
       "      <td>1.0</td>\n",
       "      <td>0.0</td>\n",
       "      <td>0.362521</td>\n",
       "      <td>0.785944</td>\n",
       "    </tr>\n",
       "    <tr>\n",
       "      <th>4</th>\n",
       "      <td>0.608023</td>\n",
       "      <td>35</td>\n",
       "      <td>73889.99</td>\n",
       "      <td>0.731323</td>\n",
       "      <td>0.0</td>\n",
       "      <td>0.0</td>\n",
       "      <td>0.523740</td>\n",
       "      <td>0.957974</td>\n",
       "    </tr>\n",
       "  </tbody>\n",
       "</table>\n",
       "</div>"
      ],
      "text/plain": [
       "   time_on_site  age  area_income  internet_usage  male  clicked   log_age  \\\n",
       "0      0.617882   35     61833.90        0.916031   0.0      0.0  0.523740   \n",
       "1      0.809621   31     68441.85        0.538746   1.0      0.0  0.419696   \n",
       "2      0.626721   26     59785.94        0.797433   0.0      0.0  0.268903   \n",
       "3      0.706272   29     54806.18        0.854280   1.0      0.0  0.362521   \n",
       "4      0.608023   35     73889.99        0.731323   0.0      0.0  0.523740   \n",
       "\n",
       "   log_income  \n",
       "0    0.855412  \n",
       "1    0.913873  \n",
       "2    0.836019  \n",
       "3    0.785944  \n",
       "4    0.957974  "
      ]
     },
     "execution_count": 32,
     "metadata": {},
     "output_type": "execute_result"
    }
   ],
   "source": [
    "# Initialize a scaler, then apply it to the features\n",
    "scaler = MinMaxScaler() # default=(0, 1)\n",
    "\n",
    "# Applying the MinMax transformation of the numerical variables\n",
    "data = pd.DataFrame(data = ad_data)\n",
    "data[numerical_vars] = scaler.fit_transform(data[numerical_vars])\n",
    "\n",
    "# Show an example of some of the data with scaling applied\n",
    "data.head()"
   ]
  },
  {
   "cell_type": "markdown",
   "metadata": {},
   "source": [
    "### Preprocessing Categorical features"
   ]
  },
  {
   "cell_type": "code",
   "execution_count": 33,
   "metadata": {},
   "outputs": [],
   "source": [
    "#using one hot encoding or getting dummy variables from the entire dataset\n",
    "final_ad_data = pd.get_dummies(data)"
   ]
  },
  {
   "cell_type": "markdown",
   "metadata": {},
   "source": [
    "-------"
   ]
  },
  {
   "cell_type": "markdown",
   "metadata": {},
   "source": [
    "## Model Selection"
   ]
  },
  {
   "cell_type": "markdown",
   "metadata": {},
   "source": [
    "Testing different models to see how they perform. Evaluation is based on\n",
    "\n",
    "-- F1 Score"
   ]
  },
  {
   "cell_type": "markdown",
   "metadata": {},
   "source": [
    "### Data Preparation: Training and Testing Sets"
   ]
  },
  {
   "cell_type": "code",
   "execution_count": 34,
   "metadata": {},
   "outputs": [],
   "source": [
    "X = final_ad_data.drop(['age','clicked', 'area_income'], axis=1)\n",
    "y = final_ad_data['clicked'] "
   ]
  },
  {
   "cell_type": "code",
   "execution_count": 35,
   "metadata": {},
   "outputs": [],
   "source": [
    "X_train, X_test, y_train, y_test = train_test_split(X, y, test_size=0.2, random_state=42, stratify=y)"
   ]
  },
  {
   "cell_type": "markdown",
   "metadata": {},
   "source": [
    "-----"
   ]
  },
  {
   "cell_type": "markdown",
   "metadata": {},
   "source": [
    "### Logistic Regression"
   ]
  },
  {
   "cell_type": "code",
   "execution_count": 36,
   "metadata": {
    "scrolled": true
   },
   "outputs": [
    {
     "name": "stdout",
     "output_type": "stream",
     "text": [
      "\n",
      "Optimized Model\n",
      "------\n",
      "Final accuracy score on the testing data: 0.9550\n",
      "Final F-score on the testing data: 0.9577\n",
      "LogisticRegression(C=1, random_state=42)\n"
     ]
    }
   ],
   "source": [
    "model = LogisticRegression(random_state=42, penalty=\"l2\")\n",
    "\n",
    "parameters = {\"C\": [0.001, 0.01, 0.1, 1, 10 , 100, 1000]}\n",
    "\n",
    "# fbeta_score scoring object using make_scorer()\n",
    "scorer = make_scorer(fbeta_score, beta=0.5)\n",
    "\n",
    "# Grid Search on the classifier using 'scorer' as the scoring method\n",
    "grid_obj = GridSearchCV(model, param_grid=parameters, scoring=scorer)\n",
    "\n",
    "# Fit the grid search object to the training data and find the optimal parameters using fit()\n",
    "grid_fit = grid_obj.fit(X_train, y_train)\n",
    "\n",
    "# Get the estimator\n",
    "best_clf = grid_fit.best_estimator_\n",
    "\n",
    "# Make predictions using the unoptimized and model\n",
    "best_predictions = best_clf.predict(X_test)\n",
    "\n",
    "# Report the scores\n",
    "print(\"\\nOptimized Model\\n------\")\n",
    "print(\"Final accuracy score on the testing data: {:.4f}\".format(accuracy_score(y_test, best_predictions)))\n",
    "print(\"Final F-score on the testing data: {:.4f}\".format(fbeta_score(y_test, best_predictions, beta = 0.5)))\n",
    "print(best_clf)"
   ]
  },
  {
   "cell_type": "markdown",
   "metadata": {},
   "source": [
    "The previous step highlighted a value of 1 for the C parameter used in the L2-Regularization. Performing another search with a much narrower search between 0.01 to 1 so as to identify the best parameter."
   ]
  },
  {
   "cell_type": "code",
   "execution_count": 37,
   "metadata": {},
   "outputs": [
    {
     "data": {
      "text/plain": [
       "array([ 0.01,  1.12,  2.23,  3.34,  4.45,  5.56,  6.67,  7.78,  8.89,\n",
       "       10.  ])"
      ]
     },
     "execution_count": 37,
     "metadata": {},
     "output_type": "execute_result"
    }
   ],
   "source": [
    "np.linspace(0.01,10,10)"
   ]
  },
  {
   "cell_type": "code",
   "execution_count": 38,
   "metadata": {
    "scrolled": true
   },
   "outputs": [
    {
     "name": "stdout",
     "output_type": "stream",
     "text": [
      "\n",
      "Optimized Model\n",
      "------\n",
      "Final accuracy score on the testing data: 0.9725\n",
      "Final F-score on the testing data: 0.9825\n",
      "LogisticRegression(C=3.34, random_state=42)\n"
     ]
    }
   ],
   "source": [
    "parameters = {\"C\": [ 0.01,  1.12,  2.23,  3.34,  4.45,  5.56,  6.67,  7.78,  8.89, 10.  ]}\n",
    "\n",
    "# fbeta_score scoring object using make_scorer()\n",
    "scorer = make_scorer(fbeta_score, beta=0.5)\n",
    "\n",
    "# Grid Search on the classifier using 'scorer' as the scoring method\n",
    "grid_obj = GridSearchCV(model, param_grid=parameters, scoring=scorer)\n",
    "\n",
    "# Fit the grid search object to the training data and find the optimal parameters using fit()\n",
    "grid_fit = grid_obj.fit(X_train, y_train)\n",
    "\n",
    "# Get the estimator\n",
    "best_clf = grid_fit.best_estimator_\n",
    "\n",
    "# Make predictions using the unoptimized and model\n",
    "best_predictions = best_clf.predict(X_train)\n",
    "\n",
    "# Report the scores\n",
    "print(\"\\nOptimized Model\\n------\")\n",
    "print(\"Final accuracy score on the testing data: {:.4f}\".format(accuracy_score(y_train, best_predictions)))\n",
    "print(\"Final F-score on the testing data: {:.4f}\".format(fbeta_score(y_train, best_predictions, beta = 0.5)))\n",
    "print(best_clf)"
   ]
  },
  {
   "cell_type": "markdown",
   "metadata": {},
   "source": [
    "Based on the above examples, the best value for C would likely be between 1 and 2.3 for better accuracy and this can be pursued further."
   ]
  },
  {
   "cell_type": "markdown",
   "metadata": {},
   "source": [
    "From the logistic regression above, with the model including most of our features, the best results are:\n",
    "\n",
    "1. Accuracy of 97.25%\n",
    "2. F-Score of 98.25%\n",
    "\n",
    "With L2 regularization with C = 3.34"
   ]
  },
  {
   "cell_type": "code",
   "execution_count": 39,
   "metadata": {
    "scrolled": true
   },
   "outputs": [
    {
     "name": "stdout",
     "output_type": "stream",
     "text": [
      "The Confusion matrix:\n",
      " [[396   4]\n",
      " [ 18 382]]\n",
      "Precision Score: 0.99\n",
      "Recall Score: 0.96\n"
     ]
    }
   ],
   "source": [
    "# Confusion matrix\n",
    "confmat = confusion_matrix(y_train, best_predictions)\n",
    "print(\"The Confusion matrix:\\n\", confmat)\n",
    "print(\"Precision Score:\", round(precision_score(y_train, best_predictions), 2))\n",
    "print(\"Recall Score:\", round(recall_score(y_train, best_predictions), 2))"
   ]
  },
  {
   "cell_type": "markdown",
   "metadata": {},
   "source": [
    "Our false positives will cost us the opportunity to work with another brand and potentially make 20 USD per consumer that is incorrectly classified. Therefore, we need to focus on lowering the false positives.\n",
    "The model could have lower specificity which increases revenue by 25usd."
   ]
  },
  {
   "cell_type": "code",
   "execution_count": 40,
   "metadata": {},
   "outputs": [],
   "source": [
    "def summary_metrics(y, y_pred):\n",
    "    confmat = confusion_matrix(y, y_pred)\n",
    "    TP = confmat[0,0]\n",
    "    FN = confmat[0,1]\n",
    "    FP = confmat[1,0]\n",
    "    TN = confmat[1,1]\n",
    " \n",
    "    # Print the confusion matrix\n",
    "    print(\"Confusion matrix:\\n\", confmat)\n",
    "    print()\n",
    "    \n",
    "    # Print the Accuracy Score\n",
    "    print(\"Accuracy:\", round(accuracy_score(y, y_pred),2))\n",
    "\n",
    "    # Print the Sensitivity/recall/true positive rate\n",
    "    print(\"Sensitivity:\", round(recall_score(y, y_pred),2))\n",
    "\n",
    "    # Precision/positive predictive value\n",
    "    print(\"Precision:\", round(precision_score(y, y_pred),2))\n",
    "\n",
    "    print(\"\")\n",
    "    print(\"DETAILS\")\n",
    "    \n",
    "    # RETURN ON TP\n",
    "    print(\"True Positive:\", round((float(TP)*25),2))\n",
    "    \n",
    "    # Return on FP\n",
    "    print(\"False Positive:\", round((float(FP) * -20),2))\n",
    "    \n",
    "    # Return on FN\n",
    "    print(\"False Negative:\", round((float(FN) * 25),2))\n",
    "    \n",
    "    # Return on TN\n",
    "    print(\"True Negative:\", round((float(TN) * 0), 2))\n",
    "    \n",
    "    # Return on investment\n",
    "    investment_return = (TP * 25) + (FP * -20) + (FN * 25) + (TN * 0)\n",
    "    print(\"Revenue:\", round(float(investment_return),2), \"$\")\n"
   ]
  },
  {
   "cell_type": "code",
   "execution_count": 41,
   "metadata": {
    "scrolled": true
   },
   "outputs": [
    {
     "name": "stdout",
     "output_type": "stream",
     "text": [
      "Confusion matrix:\n",
      " [[396   4]\n",
      " [ 18 382]]\n",
      "\n",
      "Accuracy: 0.97\n",
      "Sensitivity: 0.96\n",
      "Precision: 0.99\n",
      "\n",
      "DETAILS\n",
      "True Positive: 9900.0\n",
      "False Positive: -360.0\n",
      "False Negative: 100.0\n",
      "True Negative: 0.0\n",
      "Revenue: 9640.0 $\n",
      "None\n"
     ]
    }
   ],
   "source": [
    "# Getting the metrics from the confusion matrix with our best model on our training set\n",
    "print(summary_metrics(y_train, best_predictions))"
   ]
  },
  {
   "cell_type": "code",
   "execution_count": 42,
   "metadata": {},
   "outputs": [
    {
     "data": {
      "text/plain": [
       "Text(0, 0.5, 'Frequency')"
      ]
     },
     "execution_count": 42,
     "metadata": {},
     "output_type": "execute_result"
    },
    {
     "data": {
      "image/png": "[encoded data removed]",
      "text/plain": [
       "<Figure size 432x288 with 1 Axes>"
      ]
     },
     "metadata": {},
     "output_type": "display_data"
    }
   ],
   "source": [
    "y_pred_prob = best_clf.predict_proba(X_train)[:,1]\n",
    "\n",
    "plt.rcParams[\"font.size\"]= 12\n",
    "sns.distplot(y_pred_prob, bins=10, color='blue')\n",
    "plt.xlim(0, 1)\n",
    "plt.title(\"Distribution of predicted probabilities\")\n",
    "plt.xlabel(\"Predicted probability of Clicking\")\n",
    "plt.ylabel(\"Frequency\")"
   ]
  },
  {
   "cell_type": "code",
   "execution_count": 43,
   "metadata": {},
   "outputs": [
    {
     "name": "stdout",
     "output_type": "stream",
     "text": [
      "Confusion matrix:\n",
      " [[389  11]\n",
      " [ 12 388]]\n",
      "\n",
      "Accuracy: 0.97\n",
      "Sensitivity: 0.97\n",
      "Precision: 0.97\n",
      "\n",
      "DETAILS\n",
      "True Positive: 9725.0\n",
      "False Positive: -240.0\n",
      "False Negative: 275.0\n",
      "True Negative: 0.0\n",
      "Revenue: 9760.0 $\n"
     ]
    }
   ],
   "source": [
    "y_pred_prob = best_clf.predict_proba(X_train)[:,1]\n",
    "y_pred_class = np.where(y_pred_prob<0.35,0,1)\n",
    "summary_metrics(y_train, y_pred_class)"
   ]
  },
  {
   "cell_type": "markdown",
   "metadata": {},
   "source": [
    "By decreasing the threshold from 0.5 to 0.35, the number of false positives significantly reduced, which result in a benefit of about 120USD. The prediction that customers will still click on an ad should be closely monitored especially since that could be provide further insight into the website's audience or more insight into the model."
   ]
  },
  {
   "cell_type": "markdown",
   "metadata": {},
   "source": [
    "Looking at test set performance with the model"
   ]
  },
  {
   "cell_type": "code",
   "execution_count": 44,
   "metadata": {},
   "outputs": [
    {
     "name": "stdout",
     "output_type": "stream",
     "text": [
      "Confusion matrix:\n",
      " [[95  5]\n",
      " [ 4 96]]\n",
      "\n",
      "Accuracy: 0.96\n",
      "Sensitivity: 0.96\n",
      "Precision: 0.95\n",
      "\n",
      "DETAILS\n",
      "True Positive: 2375.0\n",
      "False Positive: -80.0\n",
      "False Negative: 125.0\n",
      "True Negative: 0.0\n",
      "Revenue: 2420.0 $\n"
     ]
    }
   ],
   "source": [
    "test_predictions = best_clf.predict(X_test)\n",
    "summary_metrics(y_test, test_predictions)"
   ]
  },
  {
   "cell_type": "code",
   "execution_count": 45,
   "metadata": {},
   "outputs": [],
   "source": [
    "test_predictions_prob = best_clf.predict_proba(X_test)[:,1]\n",
    "y_testpred_class = np.where(test_predictions_prob<0.45, 0, 1)"
   ]
  },
  {
   "cell_type": "code",
   "execution_count": 46,
   "metadata": {},
   "outputs": [
    {
     "name": "stdout",
     "output_type": "stream",
     "text": [
      "Confusion matrix:\n",
      " [[95  5]\n",
      " [ 3 97]]\n",
      "\n",
      "Accuracy: 0.96\n",
      "Sensitivity: 0.97\n",
      "Precision: 0.95\n",
      "\n",
      "DETAILS\n",
      "True Positive: 2375.0\n",
      "False Positive: -60.0\n",
      "False Negative: 125.0\n",
      "True Negative: 0.0\n",
      "Revenue: 2440.0 $\n"
     ]
    }
   ],
   "source": [
    "summary_metrics(y_test, y_testpred_class)"
   ]
  },
  {
   "cell_type": "markdown",
   "metadata": {},
   "source": [
    "\n",
    "**Overall revenue from this site would be 2440usd**. This prediction includes \n",
    "- **Revenue of 2375usd from true positives**\n",
    "- **Revenue of 125usd  from false negatives**\n",
    "- **Lost revenue of 60usd from false positives**\n",
    "\n",
    "The revenue lost from false positive is less than the revenue we get from false negatives and therefore we would not consider it a huge concern in this case, however, it would be useful to ensure that the false positives are kept at a minimum."
   ]
  },
  {
   "cell_type": "code",
   "execution_count": 47,
   "metadata": {},
   "outputs": [
    {
     "data": {
      "image/png": "[encoded data removed]",
      "text/plain": [
       "<Figure size 432x288 with 1 Axes>"
      ]
     },
     "metadata": {},
     "output_type": "display_data"
    }
   ],
   "source": [
    "fpr, tpr, thresholds = roc_curve(y_test, test_predictions_prob)\n",
    "plt.plot(fpr, tpr)\n",
    "plt.xlim([0.0, 1.0])\n",
    "plt.ylim([0.0, 1.0])\n",
    "\n",
    "# Plot Base Rate ROC\n",
    "plt.plot([0,1], [0,1],label='Base Rate')\n",
    "\n",
    "\n",
    "plt.title(\"ROC Curve\")\n",
    "plt.xlabel(\"False Positive Rate\")\n",
    "plt.ylabel(\"True Positive Rate (Sensitivity)\")\n",
    "plt.show()"
   ]
  },
  {
   "cell_type": "code",
   "execution_count": 48,
   "metadata": {
    "scrolled": false
   },
   "outputs": [
    {
     "name": "stdout",
     "output_type": "stream",
     "text": [
      "time_on_site      0.374072\n",
      "internet_usage    0.430364\n",
      "male              0.004309\n",
      "log_age           0.104886\n",
      "log_income        0.086369\n",
      "dtype: float64\n"
     ]
    },
    {
     "data": {
      "image/png": "[encoded data removed]",
      "text/plain": [
       "<Figure size 504x432 with 1 Axes>"
      ]
     },
     "metadata": {},
     "output_type": "display_data"
    }
   ],
   "source": [
    "model_rf = RandomForestClassifier(random_state=42)\n",
    "model_rf.fit(X_train, y_train)\n",
    "\n",
    "# Extracting feature importances from our model\n",
    "feature_importances = pd.Series(model_rf.feature_importances_, \n",
    "                                index=final_ad_data.drop([\"clicked\", \"age\", \"area_income\"],1).columns)\n",
    "print(feature_importances)\n",
    "\n",
    "feature_importances.sort_values(inplace=True)\n",
    "feature_importances.plot(kind='barh', figsize=(7,6))\n",
    "plt.show()"
   ]
  },
  {
   "cell_type": "markdown",
   "metadata": {},
   "source": [
    "----"
   ]
  },
  {
   "cell_type": "markdown",
   "metadata": {},
   "source": [
    "## Recommendations\n",
    "According to our model, we can already start to choose which websites would perform best based on:\n",
    "\n",
    "- Daily Internet Usage\n",
    "- Daily Time on Site\n",
    "- Age\n",
    "- Area income\n",
    "\n",
    "\n",
    "This information can help us start to identify which websites to start testing out the model on. Based on exploratory analysis, the consumers most likely to click on the ad would be on websites where:\n",
    "\n",
    "\n",
    "-- **Audiences who spend less time on the internet, however, a minimum of 23mins.**\n",
    "\n",
    "-- **Audiences who spend less time on the website, however, with a minimum of 32mins.**\n",
    "\n",
    "-- **Audiences who make less than the average income of 55K USD, however, there was an almost normal distribution for those who clicked on the ad. The majority of people who did not click on the ad had a higher income.**\n",
    "\n",
    "-- **Audiences who were younger were less likely to click on the ad, the distribution for audiences who clicked on the ad was normal. Further investigation would be useful, for example, Company A could run a brand study to for potential reasons.**\n",
    "\n",
    "\n",
    "By increasing the threshold for the model, false positives were minimized which optimized the model."
   ]
  },
  {
   "cell_type": "markdown",
   "metadata": {},
   "source": [
    "-----"
   ]
  },
  {
   "cell_type": "markdown",
   "metadata": {},
   "source": [
    "## Part 4 - DEPLOY"
   ]
  },
  {
   "cell_type": "markdown",
   "metadata": {},
   "source": [
    "The output is a model saved in a pickle"
   ]
  },
  {
   "cell_type": "code",
   "execution_count": 49,
   "metadata": {},
   "outputs": [
    {
     "data": {
      "text/plain": [
       "LogisticRegression(C=3.34, random_state=42)"
      ]
     },
     "execution_count": 49,
     "metadata": {},
     "output_type": "execute_result"
    }
   ],
   "source": [
    "best_clf"
   ]
  },
  {
   "cell_type": "code",
   "execution_count": 50,
   "metadata": {},
   "outputs": [],
   "source": [
    "with open('final_model.pkl', 'wb') as f:\n",
    "    pickle.dump(best_clf, f)"
   ]
  }
 ],
 "metadata": {
  "kernelspec": {
   "display_name": "Python 3",
   "language": "python",
   "name": "python3"
  },
  "language_info": {
   "codemirror_mode": {
    "name": "ipython",
    "version": 3
   },
   "file_extension": ".py",
   "mimetype": "text/x-python",
   "name": "python",
   "nbconvert_exporter": "python",
   "pygments_lexer": "ipython3",
   "version": "3.7.6"
  }
 },
 "nbformat": 4,
 "nbformat_minor": 4
}
